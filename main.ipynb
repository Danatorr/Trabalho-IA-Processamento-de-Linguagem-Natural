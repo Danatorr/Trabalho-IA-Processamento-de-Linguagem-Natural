import nltk
from nltk.corpus import stopwords
from nltk.tokenize import word_tokenize, sent_tokenize

#Tem que baixar isso primeiro, professor
nltk.download('punkt')
nltk.download('stopwords')

def resumir(texto):
    palavras_parada = set(stopwords.words("portuguese"))
    palavras = word_tokenize(texto)

    tabela_frequencias = dict()
    for palavra in palavras:
        palavra = palavra.lower()
        if palavra in palavras_parada:
            continue
        if palavra in tabela_frequencias:
            tabela_frequencias[palavra] += 1
        else:
            tabela_frequencias[palavra] = 1

    sentencas = sent_tokenize(texto)
    valor_sentenca = dict()

    for sentenca in sentencas:
        for palavra, freq in tabela_frequencias.items():
            if palavra in sentenca.lower():
                if sentenca in valor_sentenca:
                    valor_sentenca[sentenca] += freq
                else:
                    valor_sentenca[sentenca] = freq

    soma_valores = 0
    for sentenca in valor_sentenca:
        soma_valores += valor_sentenca[sentenca]

    media = int(soma_valores / len(valor_sentenca))

    # Imprime os valores das sentenças e a média para depuração
    print('Valores das sentenças:', valor_sentenca)
    print('Valor médio:', media)

    resumo = ''
    for sentenca in sentencas:
        if (sentenca in valor_sentenca) and (valor_sentenca[sentenca] > (1.01 * media)):
            resumo += " " + sentenca
    return resumo

# Exemplo de uso
texto = """
A inteligência artificial (IA) é a inteligência similar à humana exibida por sistemas de software, além de também ser um campo de estudo acadêmico. Os principais pesquisadores e livros didáticos definem o campo como "o estudo e projeto de agentes inteligentes", onde um agente inteligente é um sistema que percebe seu ambiente e toma atitudes que maximizam suas chances de sucesso. Andreas Kaplan e Michael Haenlein definem a IA como “uma capacidade do sistema para interpretar corretamente dados externos, aprender a partir desses dados e utilizar essas aprendizagens para atingir objetivos e tarefas específicas através de adaptação flexível”.
"""
print(resumir(texto))
